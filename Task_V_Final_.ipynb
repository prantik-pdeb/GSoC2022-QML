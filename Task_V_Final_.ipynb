{
  "nbformat": 4,
  "nbformat_minor": 0,
  "metadata": {
    "colab": {
      "name": "Task V Final .ipynb",
      "private_outputs": true,
      "provenance": [],
      "collapsed_sections": [],
      "toc_visible": true,
      "authorship_tag": "ABX9TyPrQAJEa8x4cr7TSJHqHb+V",
      "include_colab_link": true
    },
    "kernelspec": {
      "name": "python3",
      "display_name": "Python 3"
    },
    "language_info": {
      "name": "python"
    }
  },
  "cells": [
    {
      "cell_type": "markdown",
      "metadata": {
        "id": "view-in-github",
        "colab_type": "text"
      },
      "source": [
        "<a href=\"https://colab.research.google.com/github/prantik-pdeb/GSoC2022-QML/blob/main/Task_V_Final_.ipynb\" target=\"_parent\"><img src=\"https://colab.research.google.com/assets/colab-badge.svg\" alt=\"Open In Colab\"/></a>"
      ]
    },
    {
      "cell_type": "markdown",
      "source": [
        "# Task V: Open Task Part\n",
        "\n",
        "Please comment on quantum computing or quantum machine learning. You can also comment on one quantum algorithm or one quantum software you are familiar with. You can also suggest methods you think are good and you would like to work. Please use your own understanding. Comments copied from the internet will not be considered."
      ],
      "metadata": {
        "id": "nIXsC7HwhAyr"
      }
    },
    {
      "cell_type": "markdown",
      "source": [
        "#Classical computing Vs Quantum Computing:"
      ],
      "metadata": {
        "id": "MxNgmlCrxCNd"
      }
    },
    {
      "cell_type": "markdown",
      "source": [
        "### Introduction \n",
        "\n",
        "Traditional (or classical) computers that are focusing on classical principles of electrical engineering and network circuits with 2 states either 0 (off) or 1 (on) also we call it binary systems. With information storage/transfer unit is called “bit”, Zero for low voltage and 1 for high voltage.  \n",
        "Quantum computers and quantum computing are totally different from classical computing which is based on quantum mechanics such that superposition and entanglement. In quantum computers information storage/transfer single bit.\n",
        "\n",
        "I am mostly interested in the application side of quantum research/ future work. And applications are enormous from artificial intelligence or machine learning, computational chemistry, drug design, and development, cybersecurity and cryptography, financial modeling, logistic optimization, and many more.\n"
      ],
      "metadata": {
        "id": "CNWW62BTt9Qn"
      }
    },
    {
      "cell_type": "markdown",
      "source": [
        "# Quantum Machine Learning"
      ],
      "metadata": {
        "id": "PATYynm8x2uv"
      }
    },
    {
      "cell_type": "markdown",
      "source": [
        "## Introduction \n",
        "In recent years increasing the power of computing along with algorithmic advances in machine learning techniques have been powerful to find patterns in data. On the other hand, quantum systems produce a typical pattern that is not possible for a classical computer. So, many scientists postulate that quantum computers may outperform classical computers on machine learning tasks.  \n",
        "\n",
        "\n"
      ],
      "metadata": {
        "id": "XrRF9RDqx9ed"
      }
    },
    {
      "cell_type": "markdown",
      "source": [
        "## QML algorithms and recent algorithmic advances\n",
        "\n",
        "One of the simple Quantum Machine Learning(QML) algorithms is the Quantum K-nearest neighbor [2] authors propose a quantum K-nearest neighbor classification algorithm with hamming distance. In this algorithm, quantum computing is first utilized to obtain Hamming distance in parallel then a sub-algorithm for searching the minimum of unordered integer sequence based on the two sub-algorithms. It shows that the algorithm can achieve a quadratic speedup by analyzing its time complexity. In this paper, the Quantum Support vector machine[4] can be implemented with an order of O(logN*M) in both training and classification. These algorithms are under supervised learning. \n",
        "\n",
        "\n",
        "Now an unsupervised learning Quantum model clustering algorithm [3] is able to cluster the data accurately for image segmentation purposes. This work author demonstrates that applying a quantum model to a data clustering algorithm can increase clustering accuracy as a result of simulating superposition. \n",
        "\n",
        "\n",
        "The last type of machine learning algorithm is reinforcement learning this paper parameterized quantum policies for reinforcement learning[5] author proposes a hybrid quantum-classical reinforcement learning model using very few qubits, which can be effectively trained to solve several standard benchmarking environments. \n",
        "\n",
        "\n",
        "\n",
        "Apart from hybrid-classical machine learning algorithms mentioned above, there is another subset of ML called DeepLearning which is inspired by brain neurons “Artificial Neural Network”[6]. In the hybrid quantum-classical ML model, classification with quantum neural network[7] here author proposed a QNN model designed with the near-term quantum processor in mind. Therefore it will be possible to run this QNN on the near-term quantum computer where its power can be explored beyond what can be explored with simulation. In deep learning, image classification, segmentation, detection, and generation is an important task that has lots of application in the real world scenario. In this paper, the author discusses Quantum Convolutional Neural Network(QCNN) which uses only O(logN) variational parameter for input size N qubit, allowing its efficient training and implementation on near term quantum devices. "
      ],
      "metadata": {
        "id": "gXni1pPYyNQI"
      }
    },
    {
      "cell_type": "markdown",
      "source": [
        "# Quantum Software"
      ],
      "metadata": {
        "id": "v2hpbcBuzO9d"
      }
    },
    {
      "cell_type": "markdown",
      "source": [
        "I started learning QC from IBM-qiskit, then I shifted to Cirq and Tensorflow quantum[9] to learn more about Quantum Deep learning. Also worked on Xanadu-penny lane which is easy integration with Tensrflow quantum.  \n"
      ],
      "metadata": {
        "id": "fZxuL6A-zRk2"
      }
    },
    {
      "cell_type": "markdown",
      "source": [
        "# My Motivation "
      ],
      "metadata": {
        "id": "vrSgW6gVzaIl"
      }
    },
    {
      "cell_type": "markdown",
      "source": [
        "I am starting with a famous quote from prof. Richard Feynman -\n",
        "\n",
        "*“Nature isn't classical, dammit, and if you want to make a simulation of nature, you'd better make it quantum mechanical, and by golly, it's a wonderful problem because it doesn't look so easy.”*[1]. \n",
        "\n",
        "\n",
        "I am interested in medical computer vision or machine learning for health care systems. Drug discovery or molecular simulation or quantum chemistry is one of the interested and important problems to solve and that is one of the reasons I started exploring quantum computing/quantum machine learning.\n"
      ],
      "metadata": {
        "id": "r7wOs3OLzdwS"
      }
    },
    {
      "cell_type": "markdown",
      "source": [
        "# Referenecs"
      ],
      "metadata": {
        "id": "ubhHvR_R0kaG"
      }
    },
    {
      "cell_type": "markdown",
      "source": [
        "1. Trabesinger, A. (2012, April 2). Quantum Simulation. Nature News. Retrieved April 19, 2022, from https://www.nature.com/articles/nphys2258 \n",
        "\n",
        "2. Li, J., Lin, S., Kai, Y., &amp; Guo, G. (2021, March 7). Quantum K-nearest neighbor classification algorithm based on hamming distance. arXiv.org. Retrieved April 19, 2022, from https://arxiv.org/abs/2103.04253#:~:text=Quantum%20K%2Dnearest%20neighbor%20classification%20algorithm%20based%20on%20Hamming%20distance,-Jing%20Li%2C%20Song&amp;text=K%2Dnearest%20neighbor%20classification%20algorithm%20is%20one%20of%20the%20most,by%20the%20similarity%20between%20samples. \n",
        "\n",
        "3. Quantum modeled clustering algorithms for image segmentation. PICA. (n.d.). Retrieved April 19, 2022, from http://www.apas-pica.com/index.php?m=content&amp;c=index&amp;a=show&amp;catid=41&amp;id=388 \n",
        "\n",
        "4. ArXiv:1307.0471v3 [quant-ph] 10 jul 2014. (n.d.). Retrieved April 19, 2022, from https://arxiv.org/pdf/1307.0471.pdf \n",
        "\n",
        "5. Jerbi, S., Gyurik, C., Marshall, S. C., Briegel, H. J., &amp; Dunjko, V. (2021, December 9). Parametrized quantum policies for reinforcement learning. arXiv.org. Retrieved April 19, 2022, from https://arxiv.org/abs/2103.05577 \n",
        "\n",
        "6. Schmidhuber, J. (2014, October 8). Deep learning in neural networks: An overview. arXiv.org. Retrieved April 19, 2022, from https://arxiv.org/abs/1404.7828 \n",
        "\n",
        "7. ArXiv:1802.06002v2 [quant-ph] 30 aug 2018. (n.d.). Retrieved April 19, 2022, from https://arxiv.org/pdf/1802.06002.pdf \n",
        "\n",
        "\n",
        "\n",
        "8. “Tensorflow Quantum,” TensorFlow. [Online]. Available: https://www.tensorflow.org/quantum. [Accessed: 19-Apr-2022].\n",
        "\n",
        "9. “Tensorflow Quantum,” TensorFlow. [Online]. Available: https://www.tensorflow.org/quantum. [Accessed: 19-Apr-2022].\n",
        "\n",
        "\n"
      ],
      "metadata": {
        "id": "gh6D2y3A0mcR"
      }
    }
  ]
}