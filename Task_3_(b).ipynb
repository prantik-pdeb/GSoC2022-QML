{
  "nbformat": 4,
  "nbformat_minor": 0,
  "metadata": {
    "colab": {
      "name": "Task 3-(b).ipynb",
      "private_outputs": true,
      "provenance": [],
      "collapsed_sections": [],
      "authorship_tag": "ABX9TyM3u//cfYg6BQkZ/kwbEfG0",
      "include_colab_link": true
    },
    "kernelspec": {
      "name": "python3",
      "display_name": "Python 3"
    },
    "language_info": {
      "name": "python"
    },
    "accelerator": "GPU"
  },
  "cells": [
    {
      "cell_type": "markdown",
      "metadata": {
        "id": "view-in-github",
        "colab_type": "text"
      },
      "source": [
        "<a href=\"https://colab.research.google.com/github/prantik-pdeb/GSoC2022-QML/blob/main/Task_3_(b).ipynb\" target=\"_parent\"><img src=\"https://colab.research.google.com/assets/colab-badge.svg\" alt=\"Open In Colab\"/></a>"
      ]
    },
    {
      "cell_type": "markdown",
      "source": [
        "# Task III:"
      ],
      "metadata": {
        "id": "XMq8YSqLUILz"
      }
    },
    {
      "cell_type": "markdown",
      "source": [
        "# 3-(b) Implementing Quantum Neural Network (QNN) using Tensorflow Quantum "
      ],
      "metadata": {
        "id": "5ab3LGxJVlKE"
      }
    },
    {
      "cell_type": "markdown",
      "source": [
        "The electron-photon dataset (which can be found [here](https://www.google.com/url?q=https%3A%2F%2Fgithub.com%2FML4SCI%2FML4SCI_GSoC%2Ftree%2Fmain%2FQMLHEP%2Fqcnn&sa=D&source=docs)) contains 100 samples for training and another 100 for testing, laid out as follows:\n",
        "\n",
        "a. data[\"x_train\"]: Training dataset of 100 32x32 images containing the particles' energy (100, 32, 32)\n",
        "\n",
        "b. data[\"y_train\"]:\" Training labels, 0 = \"photon\", 1 = \"electron\" (100,)\n",
        "\n",
        "c. data[\"x_test\"]: Test dataset of 100 32x32 images containing the particles' energy (100, 32, 32)\n",
        "\n",
        "d. data[\"y_test\"]:\" Test labels, 0 = \"photon\", 1 = \"electron\" (100,)"
      ],
      "metadata": {
        "id": "lMqZq9-LUQ7L"
      }
    },
    {
      "cell_type": "code",
      "source": [
        "# downloading tensorflow quantum\n",
        "!pip install tensorflow-quantum"
      ],
      "metadata": {
        "id": "k39K9AriglzJ"
      },
      "execution_count": null,
      "outputs": []
    },
    {
      "cell_type": "code",
      "source": [
        "#importing tensorflow and module dependecies \n",
        "import numpy as np\n",
        "import tensorflow as tf\n",
        "import importlib, pkg_resources\n",
        "importlib.reload(pkg_resources)\n",
        "import tensorflow_quantum as tfq\n",
        "import collections\n",
        "import operator\n",
        "import cirq\n",
        "import sympy\n",
        "\n",
        "#importing visualozation tools\n",
        "%matplotlib inline\n",
        "import matplotlib.pyplot as plt\n",
        "from cirq.contrib.svg import SVGCircuit\n",
        "import matplotlib.image  as mpimg"
      ],
      "metadata": {
        "id": "RCrgWzL0gvOS"
      },
      "execution_count": null,
      "outputs": []
    },
    {
      "cell_type": "code",
      "source": [
        "'''loading data electron-photon dataset containts 100 samples\n",
        "for training and 100 sampes for test'''\n",
        "'''['x_train'] and ['x_test'] training and test dataset of 100 32*32 images \n",
        "['y_train'] and ['y_test'] training and test level with 0 = photon, 1 = electron'''\n",
        "\n",
        "dataset = np.load('/content/electron-photon.npz')"
      ],
      "metadata": {
        "id": "caHL9UeIg1Bq"
      },
      "execution_count": null,
      "outputs": []
    },
    {
      "cell_type": "code",
      "source": [
        "with dataset as data:\n",
        "  x_train = data['x_train']\n",
        "  y_train = data['y_train']\n",
        "  x_test = data['x_test']\n",
        "  y_test= data['y_test']"
      ],
      "metadata": {
        "id": "PFoojEiOkVtk"
      },
      "execution_count": null,
      "outputs": []
    },
    {
      "cell_type": "markdown",
      "source": [
        "#Data Visualization"
      ],
      "metadata": {
        "id": "CclvlrmsVcXu"
      }
    },
    {
      "cell_type": "code",
      "source": [
        "plt.imshow(x_train[1])\n",
        "plt.colorbar()"
      ],
      "metadata": {
        "id": "hnXaJ-YNl5f1"
      },
      "execution_count": null,
      "outputs": []
    },
    {
      "cell_type": "code",
      "source": [
        "plt.imshow(x_train[51])\n",
        "plt.colorbar()"
      ],
      "metadata": {
        "id": "_FBUd0PLmJzq"
      },
      "execution_count": null,
      "outputs": []
    },
    {
      "cell_type": "code",
      "source": [
        "plt.imshow(x_test[1])\n",
        "plt.colorbar()"
      ],
      "metadata": {
        "id": "jw4kC_f7l_ey"
      },
      "execution_count": null,
      "outputs": []
    },
    {
      "cell_type": "code",
      "source": [
        "plt.imshow(x_test[51])\n",
        "plt.colorbar()"
      ],
      "metadata": {
        "id": "SURINxfamMe6"
      },
      "execution_count": null,
      "outputs": []
    },
    {
      "cell_type": "code",
      "source": [
        "train_dataset = tf.data.Dataset.from_tensor_slices((x_train, y_train))\n",
        "test_dataset = tf.data.Dataset.from_tensor_slices((x_test, y_test))"
      ],
      "metadata": {
        "id": "dcJ4hjyzksKS"
      },
      "execution_count": null,
      "outputs": []
    },
    {
      "cell_type": "code",
      "source": [
        "BATCH_SIZE = 8\n",
        "SHUFFLE_BUFFER_SIZE = 10\n",
        "\n",
        "train_dataset = train_dataset.shuffle(SHUFFLE_BUFFER_SIZE).batch(BATCH_SIZE)\n",
        "test_dataset = test_dataset.batch(BATCH_SIZE)"
      ],
      "metadata": {
        "id": "sPj9tD4SkuSO"
      },
      "execution_count": null,
      "outputs": []
    },
    {
      "cell_type": "markdown",
      "source": [
        "# Classical Neural Network "
      ],
      "metadata": {
        "id": "TDuut_N0V9Pe"
      }
    },
    {
      "cell_type": "code",
      "source": [
        "model = tf.keras.Sequential([\n",
        "    tf.keras.layers.Flatten(input_shape=(32, 32)),\n",
        "    tf.keras.layers.Dense(128, activation='relu'),\n",
        "    tf.keras.layers.Dense(1, activation=tf.nn.sigmoid)\n",
        "])"
      ],
      "metadata": {
        "id": "kQspOi0xk-hP"
      },
      "execution_count": null,
      "outputs": []
    },
    {
      "cell_type": "code",
      "source": [
        "model.compile(loss='binary_crossentropy', optimizer='adam', metrics=['accuracy'])"
      ],
      "metadata": {
        "id": "_b4dGdb_lNNg"
      },
      "execution_count": null,
      "outputs": []
    },
    {
      "cell_type": "code",
      "source": [
        "model.summary()"
      ],
      "metadata": {
        "id": "vWrIX-EAh5DU"
      },
      "execution_count": null,
      "outputs": []
    },
    {
      "cell_type": "code",
      "source": [
        "history= model.fit(train_dataset, epochs=100, validation_data=test_dataset)"
      ],
      "metadata": {
        "id": "Lb3B2JnHlROy"
      },
      "execution_count": null,
      "outputs": []
    },
    {
      "cell_type": "code",
      "source": [
        "train_loss, train_acc = model.evaluate(train_dataset)"
      ],
      "metadata": {
        "id": "ZkLSgeXylhYG"
      },
      "execution_count": null,
      "outputs": []
    },
    {
      "cell_type": "code",
      "source": [
        "test_loss, test_acc = model.evaluate(test_dataset)"
      ],
      "metadata": {
        "id": "n5zH09mPljhl"
      },
      "execution_count": null,
      "outputs": []
    },
    {
      "cell_type": "markdown",
      "source": [
        "# Result: Visualization of Classical Neural Network"
      ],
      "metadata": {
        "id": "MhhtfGw2WYYk"
      }
    },
    {
      "cell_type": "code",
      "source": [
        "train_acc=history.history['accuracy']\n",
        "test_acc=history.history['val_accuracy']\n",
        "train_loss=history.history['loss']\n",
        "test_loss=history.history['val_loss']\n",
        "\n",
        "epochs=range(len(train_acc)) \n",
        "plt.plot(epochs, train_acc, 'r', label= \"Training Accuracy\")\n",
        "plt.plot(epochs, test_acc, 'b', label = \"Test Accuracy\")\n",
        "plt.title('Training and testing accuracy')\n",
        "plt.figure()\n",
        "\n",
        "plt.plot(epochs, train_loss, 'r',label= \"Training Loss\")\n",
        "plt.plot(epochs, test_loss, 'b', label=\"Test Loss\")\n",
        "plt.title('Training and testing loss')\n",
        "plt.figure()"
      ],
      "metadata": {
        "id": "1xbsUY8elo2l"
      },
      "execution_count": null,
      "outputs": []
    },
    {
      "cell_type": "markdown",
      "source": [
        "\n",
        "\n",
        "\n",
        "---\n",
        "\n",
        "# Quantum Neural Network (QNN)\n",
        "\n"
      ],
      "metadata": {
        "id": "h0GPQn8KXCgt"
      }
    },
    {
      "cell_type": "code",
      "source": [
        "# Resize image  \n",
        "def crop_img(img, dimension):\n",
        "    start = tuple(map(lambda a, da: a//2-da//2, img.shape, dimension))\n",
        "    end = tuple(map(operator.add, start, dimension))\n",
        "    slices = tuple(map(slice, start, end))\n",
        "    return img[slices]"
      ],
      "metadata": {
        "id": "QXyxfqoViuS5"
      },
      "execution_count": null,
      "outputs": []
    },
    {
      "cell_type": "code",
      "source": [
        "crop_size = (16, 16)\n",
        "x_train_cropped_size = np.array([crop_img(i, crop_size) for i in x_train])\n",
        "x_test_cropped_size = np.array([crop_img(i, crop_size) for i in x_test])"
      ],
      "metadata": {
        "id": "dx28P-6Siwdx"
      },
      "execution_count": null,
      "outputs": []
    },
    {
      "cell_type": "code",
      "source": [
        "print('Shape of x_train dataset:',x_train_cropped_size.shape)\n",
        "print('Shape of x_test dataset:',x_test_cropped_size.shape)"
      ],
      "metadata": {
        "id": "-jKN7wulD4-I"
      },
      "execution_count": null,
      "outputs": []
    },
    {
      "cell_type": "code",
      "source": [
        "plt.imshow(x_train_cropped_size[1])\n",
        "plt.colorbar()"
      ],
      "metadata": {
        "id": "2FbqzkgHEU-6"
      },
      "execution_count": null,
      "outputs": []
    },
    {
      "cell_type": "code",
      "source": [
        "plt.imshow(x_test_cropped_size[1])\n",
        "plt.colorbar()"
      ],
      "metadata": {
        "id": "IlEmq1KfEYh7"
      },
      "execution_count": null,
      "outputs": []
    },
    {
      "cell_type": "code",
      "source": [
        "# Add the color channel into the dataset (batch_size, height, width, channel)\n",
        "x_train_new_size = np.reshape(x_train_cropped_size, list(x_train_cropped_size.shape)+[1])\n",
        "x_test_new_size = np.reshape(x_test_cropped_size, list(x_test_cropped_size.shape)+[1])"
      ],
      "metadata": {
        "id": "WeAni2zciy7Z"
      },
      "execution_count": null,
      "outputs": []
    },
    {
      "cell_type": "code",
      "source": [
        "print('Shape of x_train dataset:',x_train_new_size.shape)\n",
        "print('Shape of x_test dataset:',x_test_new_size.shape)"
      ],
      "metadata": {
        "id": "4kj0_5jrEjDm"
      },
      "execution_count": null,
      "outputs": []
    },
    {
      "cell_type": "code",
      "source": [
        "#An image size of 32x32 is much too large for current quantum computers. Resize the image down to 4x4\n",
        "# Using the image resize function from tensorflow library for tf.image.resize\n",
        "x_train_small = np.array([tf.image.resize(img, (4,4)).numpy() for img in x_train_new_size])\n",
        "x_test_small = np.array([tf.image.resize(img, (4,4)).numpy() for img in x_test_new_size])\n",
        "x_train_small = np.reshape(x_train_small, x_train_small.shape[:3])\n",
        "x_test_small = np.reshape(x_test_small, x_test_small.shape[:3])"
      ],
      "metadata": {
        "id": "7RA6JRfwXyk5"
      },
      "execution_count": null,
      "outputs": []
    },
    {
      "cell_type": "code",
      "source": [
        "def convert_to_circuit(image):\n",
        "    \"\"\"Encode truncated classical image into quantum datapoint.\"\"\"\n",
        "    values = np.ndarray.flatten(image)\n",
        "    qubits = cirq.GridQubit.rect(4, 4)\n",
        "    circuit = cirq.Circuit()\n",
        "    for i, value in enumerate(values):\n",
        "        if value:\n",
        "            circuit.append(cirq.X(qubits[i]))\n",
        "    return circuit"
      ],
      "metadata": {
        "id": "W_BpWcuZi2lJ"
      },
      "execution_count": null,
      "outputs": []
    },
    {
      "cell_type": "code",
      "source": [
        "x_train_circ = [convert_to_circuit(x) for x in x_train_small]\n",
        "x_test_circ = [convert_to_circuit(x) for x in x_test_small]"
      ],
      "metadata": {
        "id": "2hNKiLLjIZJR"
      },
      "execution_count": null,
      "outputs": []
    },
    {
      "cell_type": "code",
      "source": [
        "SVGCircuit(x_train_circ[0])"
      ],
      "metadata": {
        "id": "GoKB70RBi46x"
      },
      "execution_count": null,
      "outputs": []
    },
    {
      "cell_type": "code",
      "source": [
        "bin_img = x_train_small[0]\n",
        "indices = np.array(np.where(bin_img)).T\n",
        "indices"
      ],
      "metadata": {
        "id": "UHvUavERi7JB"
      },
      "execution_count": null,
      "outputs": []
    },
    {
      "cell_type": "code",
      "source": [
        "x_train_tfcirc = tfq.convert_to_tensor(x_train_circ)\n",
        "x_test_tfcirc = tfq.convert_to_tensor(x_test_circ)"
      ],
      "metadata": {
        "id": "-JI0EPm8i-Bi"
      },
      "execution_count": null,
      "outputs": []
    },
    {
      "cell_type": "code",
      "source": [
        "class CircuitLayerBuilder():\n",
        "    def __init__(self, data_qubits, readout):\n",
        "        self.data_qubits = data_qubits\n",
        "        self.readout = readout\n",
        "\n",
        "    def add_layer(self, circuit, gate, prefix):\n",
        "        for i, qubit in enumerate(self.data_qubits):\n",
        "            symbol = sympy.Symbol(prefix + '-' + str(i))\n",
        "            circuit.append(gate(qubit, self.readout)**symbol)"
      ],
      "metadata": {
        "id": "ixYOPB7gjAUQ"
      },
      "execution_count": null,
      "outputs": []
    },
    {
      "cell_type": "code",
      "source": [
        "demo_builder = CircuitLayerBuilder(data_qubits = cirq.GridQubit.rect(4,1),\n",
        "                                   readout=cirq.GridQubit(-1,-1))\n",
        "\n",
        "circuit = cirq.Circuit()\n",
        "demo_builder.add_layer(circuit, gate = cirq.XX, prefix='xx')\n",
        "SVGCircuit(circuit)"
      ],
      "metadata": {
        "id": "fFYy05SVjB5I"
      },
      "execution_count": null,
      "outputs": []
    },
    {
      "cell_type": "code",
      "source": [
        "def create_quantum_model():\n",
        "    \"\"\"Create a QNN model circuit and readout operation to go along with it.\"\"\"\n",
        "    data_qubits = cirq.GridQubit.rect(4, 4)  # a 4x4 grid.\n",
        "    readout = cirq.GridQubit(-1, -1)         # a single qubit at [-1,-1]\n",
        "    circuit = cirq.Circuit()\n",
        "\n",
        "    # Prepare the readout qubit.\n",
        "    circuit.append(cirq.X(readout))\n",
        "    circuit.append(cirq.H(readout))\n",
        "\n",
        "    builder = CircuitLayerBuilder(\n",
        "        data_qubits = data_qubits,\n",
        "        readout=readout)\n",
        "\n",
        "    # Then add layers (experiment by adding more).\n",
        "    builder.add_layer(circuit, cirq.XX, \"xx1\")\n",
        "    builder.add_layer(circuit, cirq.ZZ, \"zz1\")\n",
        "\n",
        "    # Finally, prepare the readout qubit.\n",
        "    circuit.append(cirq.H(readout))\n",
        "\n",
        "    return circuit, cirq.Z(readout)"
      ],
      "metadata": {
        "id": "csWblCT3jEWI"
      },
      "execution_count": null,
      "outputs": []
    },
    {
      "cell_type": "code",
      "source": [
        "model_circuit, model_readout = create_quantum_model()"
      ],
      "metadata": {
        "id": "t_hmiMq_jGxA"
      },
      "execution_count": null,
      "outputs": []
    },
    {
      "cell_type": "code",
      "source": [
        "# Build the Keras model.\n",
        "model = tf.keras.Sequential([\n",
        "    # The input is the data-circuit, encoded as a tf.string\n",
        "    tf.keras.layers.Input(shape=(), dtype=tf.string),\n",
        "    # The PQC layer returns the expected value of the readout gate, range [-1,1].\n",
        "    tfq.layers.PQC(model_circuit, model_readout),\n",
        "])"
      ],
      "metadata": {
        "id": "YshsIaybjJAB"
      },
      "execution_count": null,
      "outputs": []
    },
    {
      "cell_type": "code",
      "source": [
        "y_train_hinge = 2.0*y_train-1.0\n",
        "y_test_hinge = 2.0*y_test-1.0"
      ],
      "metadata": {
        "id": "BIzl6TwsjK7y"
      },
      "execution_count": null,
      "outputs": []
    },
    {
      "cell_type": "code",
      "source": [
        "def hinge_accuracy(y_true, y_pred):\n",
        "    y_true = tf.squeeze(y_true) > 0.0\n",
        "    y_pred = tf.squeeze(y_pred) > 0.0\n",
        "    result = tf.cast(y_true == y_pred, tf.float32)\n",
        "\n",
        "    return tf.reduce_mean(result)"
      ],
      "metadata": {
        "id": "6keNgbzzjNjp"
      },
      "execution_count": null,
      "outputs": []
    },
    {
      "cell_type": "code",
      "source": [
        "model.compile(\n",
        "    loss=tf.keras.losses.Hinge(),\n",
        "    optimizer=tf.keras.optimizers.Adam(),\n",
        "    metrics=[hinge_accuracy])"
      ],
      "metadata": {
        "id": "CmO4szMOjPXI"
      },
      "execution_count": null,
      "outputs": []
    },
    {
      "cell_type": "code",
      "source": [
        "model.summary()"
      ],
      "metadata": {
        "id": "z5bsatiGjQ1o"
      },
      "execution_count": null,
      "outputs": []
    },
    {
      "cell_type": "code",
      "source": [
        "NUM_EXAMPLES = len(x_train_tfcirc)\n",
        "x_train_tfcirc_sub = x_train_tfcirc[:NUM_EXAMPLES]\n",
        "y_train_hinge_sub = y_train_hinge[:NUM_EXAMPLES]"
      ],
      "metadata": {
        "id": "qOMtNsUJjWv4"
      },
      "execution_count": null,
      "outputs": []
    },
    {
      "cell_type": "code",
      "source": [
        "qnn_history = model.fit(\n",
        "      x_train_tfcirc_sub, y_train_hinge_sub,\n",
        "      batch_size=32,\n",
        "      epochs=100,\n",
        "      validation_data=(x_test_tfcirc, y_test_hinge))"
      ],
      "metadata": {
        "id": "_ugWHsCmjZIh"
      },
      "execution_count": null,
      "outputs": []
    },
    {
      "cell_type": "code",
      "source": [
        "train_loss, train_acc = model.evaluate(x_train_tfcirc_sub, y_train_hinge_sub)"
      ],
      "metadata": {
        "id": "3iI2zdF8ja9Z"
      },
      "execution_count": null,
      "outputs": []
    },
    {
      "cell_type": "code",
      "source": [
        "test_loss, test_acc = model.evaluate(x_test_tfcirc, y_test_hinge)"
      ],
      "metadata": {
        "id": "5EQUULFAjdiE"
      },
      "execution_count": null,
      "outputs": []
    },
    {
      "cell_type": "markdown",
      "source": [
        "# Result: Visualization of Quantum Neural Network (QNN)"
      ],
      "metadata": {
        "id": "-4y8_77GFdpd"
      }
    },
    {
      "cell_type": "code",
      "source": [
        "train_acc = qnn_history.history['hinge_accuracy']\n",
        "test_acc = qnn_history.history['val_hinge_accuracy']\n",
        "train_loss = qnn_history.history['loss']\n",
        "test_loss = qnn_history.history['val_loss']\n",
        "\n",
        "epochs=range(len(train_acc)) \n",
        "plt.plot(epochs, train_acc, 'r', label= \"Training Accuracy\")\n",
        "plt.plot(epochs, test_acc, 'b', label = \"Test Accuracy\")\n",
        "plt.title('Training and testing accuracy')\n",
        "plt.figure()\n",
        "\n",
        "plt.plot(epochs, train_loss, 'r',label= \"Training Loss\")\n",
        "plt.plot(epochs, test_loss, 'b', label=\"Test Loss\")\n",
        "plt.title('Training and testing loss')\n",
        "plt.figure()"
      ],
      "metadata": {
        "id": "XJ4OP81ojfjJ"
      },
      "execution_count": null,
      "outputs": []
    },
    {
      "cell_type": "markdown",
      "source": [
        "# References:"
      ],
      "metadata": {
        "id": "H0pTD0WnE7yV"
      }
    },
    {
      "cell_type": "markdown",
      "source": [
        "1. A. Abbas, D. Sutter, C. Zoufal, A. Lucchi, A. Figalli, and S. Woerner, “The power of Quantum Neural Networks,” Nature Computational Science, vol. 1, no. 6, pp. 403–409, 2021. \n",
        "2. “Deep Learning Specialization,” DeepLearning.AI, 24-Dec-2021. [Online]. Available: https://www.deeplearning.ai/program/deep-learning-specialization/. [Accessed: 03-Apr-2022]. \n",
        "3. “Deep learning,” Deep Learning. [Online]. Available: https://www.deeplearningbook.org/. [Accessed: 01-Apr-2022]. \n",
        "4. E. Farhi and H. Neven, “Classification with quantum neural networks on near term processors,” arXiv.org, 30-Aug-2018. [Online]. Available: https://arxiv.org/abs/1802.06002. [Accessed: 01-Apr-2022]. \n",
        "5. M. Broughton, G. Verdon, T. McCourt, A. J. Martinez, J. H. Yoo, S. V. Isakov, P. Massey, R. Halavati, M. Y. Niu, A. Zlokapa, E. Peters, O. Lockwood, A. Skolik, S. Jerbi, V. Dunjko, M. Leib, M. Streif, D. Von Dollen, H. Chen, S. Cao, R. Wiersema, H.-Y. Huang, J. R. McClean, R. Babbush, S. Boixo, D. Bacon, A. K. Ho, H. Neven, and M. Mohseni, “TensorFlow quantum: A software framework for Quantum Machine Learning,” arXiv.org, 26-Aug-2021. [Online]. Available: https://arxiv.org/abs/2003.02989. [Accessed: 01-Apr-2022]. \n",
        "6. “Tensorflow Quantum,” TensorFlow. [Online]. Available: https://www.tensorflow.org/quantum. [Accessed: 01-Apr-2022]. \n",
        "7. Y. LeCun, Y. Bengio, and G. Hinton, “Deep learning,” Nature, vol. 521, no. 7553, pp. 436–444, 2015. \n",
        "8. “MNIST classification &nbsp;: &nbsp; tensorflow quantum,” TensorFlow. [Online]. Available: https://www.tensorflow.org/quantum/tutorials/mnist. [Accessed: 01-Apr-2022]. "
      ],
      "metadata": {
        "id": "NHQdlRh4J96U"
      }
    }
  ]
}