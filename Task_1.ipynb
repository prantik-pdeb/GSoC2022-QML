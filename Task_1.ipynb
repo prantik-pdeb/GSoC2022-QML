{
  "nbformat": 4,
  "nbformat_minor": 0,
  "metadata": {
    "colab": {
      "name": "Task-1.ipynb",
      "private_outputs": true,
      "provenance": [],
      "collapsed_sections": [],
      "toc_visible": true,
      "authorship_tag": "ABX9TyNKBASMOn6bKVGFPgRZQyka",
      "include_colab_link": true
    },
    "kernelspec": {
      "name": "python3",
      "display_name": "Python 3"
    },
    "language_info": {
      "name": "python"
    }
  },
  "cells": [
    {
      "cell_type": "markdown",
      "metadata": {
        "id": "view-in-github",
        "colab_type": "text"
      },
      "source": [
        "<a href=\"https://colab.research.google.com/github/prantik-pdeb/GSoC2022-QML/blob/main/Task_1.ipynb\" target=\"_parent\"><img src=\"https://colab.research.google.com/assets/colab-badge.svg\" alt=\"Open In Colab\"/></a>"
      ]
    },
    {
      "cell_type": "markdown",
      "source": [
        "# QML-HEP GSoC 2022 Tasks\n",
        "\n",
        "```\n",
        "```\n",
        "\n"
      ],
      "metadata": {
        "id": "qhc0HlHTJa4T"
      }
    },
    {
      "cell_type": "markdown",
      "source": [
        "# Task I: Quantum Computing Part"
      ],
      "metadata": {
        "id": "4Hp2fkjbR9R4"
      }
    },
    {
      "cell_type": "code",
      "source": [
        "# Installing an open source google framework for quantum computer programming\n",
        "!pip install cirq-google --pre"
      ],
      "metadata": {
        "id": "xlD_OK8OXGZd"
      },
      "execution_count": null,
      "outputs": []
    },
    {
      "cell_type": "code",
      "source": [
        "#import necessary dependencies \n",
        "import cirq\n",
        "import numpy as np\n",
        "\n",
        "#importing visualozation tools\n",
        "%matplotlib inline\n",
        "import matplotlib.pyplot as plt"
      ],
      "metadata": {
        "id": "LAM3GBjYXQvH"
      },
      "execution_count": null,
      "outputs": []
    },
    {
      "cell_type": "markdown",
      "source": [
        "#1) Implement a simple quantum operation with Cirq"
      ],
      "metadata": {
        "id": "6_zPjDXXLNGp"
      }
    },
    {
      "cell_type": "markdown",
      "source": [
        "Implement a simple quantum operation with Cirq:\n",
        "\n",
        "\n",
        "\n",
        "a.   With 5 qubits\n",
        "\n",
        "b.   Apply Hadamard operation on every qubit\n",
        "\n",
        "c.   Apply CNOT operation on (0, 1), (1,2), (2,3), (3,4)\n",
        "\n",
        "d.   SWAP (0, 4)\n",
        "\n",
        "\n",
        "e.   Rotate X with pi/2 on any qubit\n",
        "\n",
        "\n",
        "f.   Plot the circuit   "
      ],
      "metadata": {
        "id": "oQeu3gvqLU5r"
      }
    },
    {
      "cell_type": "code",
      "source": [
        "# Defining 5 qubits\n",
        "q0 = cirq.NamedQubit(\"q0\")\n",
        "q1 = cirq.NamedQubit(\"q1\")\n",
        "q2 = cirq.NamedQubit(\"q2\")\n",
        "q3 = cirq.NamedQubit(\"q3\")\n",
        "q4 = cirq.NamedQubit(\"q4\")"
      ],
      "metadata": {
        "id": "Vrz0RJkHYApl"
      },
      "execution_count": null,
      "outputs": []
    },
    {
      "cell_type": "code",
      "source": [
        "# Applying Hadamard operation on every qubit, CNOT operation on (0, 1), (1,2), (2,3), (3,4) then SWAP (0, 4)\n",
        "operation = [cirq.H(q0), cirq.H(q1), cirq.H(q2), cirq.H(q3), cirq.H(q4),\n",
        "             cirq.CNOT(q0,q1), cirq.CNOT(q1,q2), cirq.CNOT(q2,q3),cirq.CNOT(q3,q4), cirq.SWAP(q0,q4),\n",
        "             cirq.Rx(rads = 0.5*np.pi)(q0)]"
      ],
      "metadata": {
        "id": "FWHvZ5P8ZaSA"
      },
      "execution_count": null,
      "outputs": []
    },
    {
      "cell_type": "code",
      "source": [
        "circuit = cirq.Circuit(operation)\n",
        "print(circuit)"
      ],
      "metadata": {
        "id": "7b6gF4L7aDKl"
      },
      "execution_count": null,
      "outputs": []
    },
    {
      "cell_type": "markdown",
      "source": [
        "#2) Create a circuit that is a series of small cirq.Rx rotations and plot the probability of measuring the state in the |0⟩ state."
      ],
      "metadata": {
        "id": "Y7CX0uX7NsNi"
      }
    },
    {
      "cell_type": "code",
      "source": [
        "# Initialize a circuit\n",
        "circuit = cirq.Circuit()"
      ],
      "metadata": {
        "id": "77urb9ehQf21"
      },
      "execution_count": null,
      "outputs": []
    },
    {
      "cell_type": "code",
      "source": [
        "q4 = cirq.NamedQubit('q4')\n",
        "\n",
        "# A circuit of a bunch of X rotations\n",
        "num_angles = 200\n",
        "circuit = cirq.Circuit([cirq.Rx(rads=np.pi / 50.0)(q4) for theta in range(num_angles)])"
      ],
      "metadata": {
        "id": "npTcCCtpRK0u"
      },
      "execution_count": null,
      "outputs": []
    },
    {
      "cell_type": "code",
      "source": [
        "# Measure the circuit\n",
        "circuit.append(cirq.measure(q4, key='result'))\n",
        "print(circuit)"
      ],
      "metadata": {
        "id": "rhT69cM2Onqa"
      },
      "execution_count": null,
      "outputs": []
    },
    {
      "cell_type": "code",
      "source": [
        "simulator = cirq.Simulator()"
      ],
      "metadata": {
        "id": "2L0QjuWjTfkK"
      },
      "execution_count": null,
      "outputs": []
    },
    {
      "cell_type": "code",
      "source": [
        "# List to store probabilities of the ground state.\n",
        "probs = []\n",
        "\n",
        "# Step through the simulation outcome\n",
        "for step in simulator.simulate_moment_steps(circuit):\n",
        "    prob = np.abs(step.state_vector()) ** 2\n",
        "    probs.append(prob[0])"
      ],
      "metadata": {
        "id": "nIDJzGQmSE8W"
      },
      "execution_count": null,
      "outputs": []
    },
    {
      "cell_type": "code",
      "source": [
        "# Plot the probability of the ground state at each simulation step.\n",
        "plt.style.use('seaborn-whitegrid')\n",
        "plt.plot(probs, 'o')\n",
        "plt.xlabel(\"Step\")\n",
        "plt.ylabel(\"Probability of ground state\")"
      ],
      "metadata": {
        "id": "wRAWGnGRT6nw"
      },
      "execution_count": null,
      "outputs": []
    },
    {
      "cell_type": "markdown",
      "source": [
        "# **References:**\n",
        "\n",
        "1. M. Broughton, G. Verdon, T. McCourt, A. J. Martinez, J. H. Yoo, S. V. Isakov, P. Massey, R. Halavati, M. Y. Niu, A. Zlokapa, E. Peters, O. Lockwood, A. Skolik, S. Jerbi, V. Dunjko, M. Leib, M. Streif, D. Von Dollen, H. Chen, S. Cao, R. Wiersema, H.-Y. Huang, J. R. McClean, R. Babbush, S. Boixo, D. Bacon, A. K. Ho, H. Neven, and M. Mohseni, “TensorFlow quantum: A software framework for Quantum Machine Learning,” arXiv.org, 26-Aug-2021. [Online]. Available: https://arxiv.org/abs/2003.02989. [Accessed: 01-Apr-2022]. \n",
        "\n",
        "\n",
        "\n",
        "2. “Tensorflow Quantum,” TensorFlow. [Online]. Available: https://www.tensorflow.org/quantum. [Accessed: 01-Apr-2022]. \n",
        "\n",
        "\n"
      ],
      "metadata": {
        "id": "u2e5XK--P4oc"
      }
    }
  ]
}